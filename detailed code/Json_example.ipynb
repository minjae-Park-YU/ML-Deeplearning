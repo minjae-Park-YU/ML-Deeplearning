{
 "cells": [
  {
   "cell_type": "markdown",
   "metadata": {},
   "source": [
    "# Json 파일 사용"
   ]
  },
  {
   "cell_type": "code",
   "execution_count": 35,
   "metadata": {},
   "outputs": [
    {
     "name": "stdout",
     "output_type": "stream",
     "text": [
      "Collecting seaborn\n",
      "  Downloading https://files.pythonhosted.org/packages/68/ad/6c2406ae175f59ec616714e408979b674fe27b9587f79d59a528ddfbcd5b/seaborn-0.11.1-py3-none-any.whl (285kB)\n",
      "\u001b[K    100% |████████████████████████████████| 286kB 1.3MB/s ta 0:00:01\n",
      "\u001b[?25hCollecting pandas>=0.23 (from seaborn)\n",
      "  Using cached https://files.pythonhosted.org/packages/c3/e2/00cacecafbab071c787019f00ad84ca3185952f6bb9bca9550ed83870d4d/pandas-1.1.5-cp36-cp36m-manylinux1_x86_64.whl\n",
      "Collecting matplotlib>=2.2 (from seaborn)\n",
      "  Downloading https://files.pythonhosted.org/packages/d2/43/2bd63467490036697e7be71444fafc7b236923d614d4521979a200c6b559/matplotlib-3.3.3-cp36-cp36m-manylinux1_x86_64.whl (11.6MB)\n",
      "\u001b[K    100% |████████████████████████████████| 11.6MB 111kB/s ta 0:00:011\n",
      "\u001b[?25hCollecting scipy>=1.0 (from seaborn)\n",
      "  Downloading https://files.pythonhosted.org/packages/c8/89/63171228d5ced148f5ced50305c89e8576ffc695a90b58fe5bb602b910c2/scipy-1.5.4-cp36-cp36m-manylinux1_x86_64.whl (25.9MB)\n",
      "\u001b[K    100% |████████████████████████████████| 25.9MB 54kB/s  eta 0:00:01\n",
      "\u001b[?25hCollecting numpy>=1.15 (from seaborn)\n",
      "  Using cached https://files.pythonhosted.org/packages/a6/fc/36e52d0ae2aa502b211f1bcd2fdeec72d343d58224eabcdddc1bcb052db1/numpy-1.19.4-cp36-cp36m-manylinux1_x86_64.whl\n",
      "Collecting pytz>=2017.2 (from pandas>=0.23->seaborn)\n",
      "  Using cached https://files.pythonhosted.org/packages/12/f8/ff09af6ff61a3efaad5f61ba5facdf17e7722c4393f7d8a66674d2dbd29f/pytz-2020.4-py2.py3-none-any.whl\n",
      "Collecting python-dateutil>=2.7.3 (from pandas>=0.23->seaborn)\n",
      "  Using cached https://files.pythonhosted.org/packages/d4/70/d60450c3dd48ef87586924207ae8907090de0b306af2bce5d134d78615cb/python_dateutil-2.8.1-py2.py3-none-any.whl\n",
      "Collecting pillow>=6.2.0 (from matplotlib>=2.2->seaborn)\n",
      "  Using cached https://files.pythonhosted.org/packages/5f/19/d4c25111d36163698396f93c363114cf1cddbacb24744f6612f25b6aa3d0/Pillow-8.0.1-cp36-cp36m-manylinux1_x86_64.whl\n",
      "Collecting cycler>=0.10 (from matplotlib>=2.2->seaborn)\n",
      "  Using cached https://files.pythonhosted.org/packages/f7/d2/e07d3ebb2bd7af696440ce7e754c59dd546ffe1bbe732c8ab68b9c834e61/cycler-0.10.0-py2.py3-none-any.whl\n",
      "Collecting kiwisolver>=1.0.1 (from matplotlib>=2.2->seaborn)\n",
      "  Using cached https://files.pythonhosted.org/packages/a7/1b/cbd8ae738719b5f41592a12057ef5442e2ed5f5cb5451f8fc7e9f8875a1a/kiwisolver-1.3.1-cp36-cp36m-manylinux1_x86_64.whl\n",
      "Collecting pyparsing!=2.0.4,!=2.1.2,!=2.1.6,>=2.0.3 (from matplotlib>=2.2->seaborn)\n",
      "  Using cached https://files.pythonhosted.org/packages/8a/bb/488841f56197b13700afd5658fc279a2025a39e22449b7cf29864669b15d/pyparsing-2.4.7-py2.py3-none-any.whl\n",
      "Collecting six>=1.5 (from python-dateutil>=2.7.3->pandas>=0.23->seaborn)\n",
      "  Using cached https://files.pythonhosted.org/packages/ee/ff/48bde5c0f013094d729fe4b0316ba2a24774b3ff1c52d924a8a4cb04078a/six-1.15.0-py2.py3-none-any.whl\n",
      "Installing collected packages: pytz, numpy, six, python-dateutil, pandas, pillow, cycler, kiwisolver, pyparsing, matplotlib, scipy, seaborn\n",
      "Successfully installed cycler-0.10.0 kiwisolver-1.3.1 matplotlib-3.3.3 numpy-1.19.4 pandas-1.1.5 pillow-8.0.1 pyparsing-2.4.7 python-dateutil-2.8.1 pytz-2020.4 scipy-1.5.4 seaborn-0.11.1 six-1.15.0\n",
      "Note: you may need to restart the kernel to use updated packages.\n"
     ]
    }
   ],
   "source": [
    "pip install seaborn"
   ]
  },
  {
   "cell_type": "code",
   "execution_count": 2,
   "metadata": {},
   "outputs": [
    {
     "name": "stdout",
     "output_type": "stream",
     "text": [
      "{'value1': 5, 'value2': 10, 'seq': [1, 2, 3, 4, 5]}\n"
     ]
    }
   ],
   "source": [
    "import json\n",
    "a = {'value1':5, 'value2':10, 'seq':[1,2,3,4,5]}  # 리스트 형태의 딕셔너리도 저장가능\n",
    "\n",
    "filename = 'test.json'\n",
    "with open(filename, 'w') as f:    # 파일 쓰기, with 문을 나가게 되면 자동으로 파일이 닫혀서 안전하게 사용함\n",
    "    json.dump(a, f)                # 딕셔너리 형태로 파일 저장\n",
    "    \n",
    "with open(filename, 'r') as f:    # 파일 읽기\n",
    "    result = json.load(f)\n",
    "    print(result)\n",
    "    \n",
    "# 파일 이름은 시간_랜덤 숫자로 지정해서 알아보기 쉽게 만들기\n",
    "# 같은 실험 세팅으로 다시 돌리면 시간이 달라서 다른 json 파일이 생김\n",
    "# 변수 값들을 파일 제목에 같이 넣어보자 구분하기 쉽게\n",
    "# 근데 하이퍼 파라미터가 많음, 모두 다 넣을 수가 없음\n",
    "# 그러면 실험 이름 + 실험 세팅 값의 해쉬.json 으로 파일 이름을 정하자.\n",
    "\n",
    "# 해쉬 : 문자, 숫자의 조합의 규칙으로 표현하는 것, input 값이 달라지면 조합이 완전히 달라짐. 랜덤하게 보이지만 규칙이 있음"
   ]
  },
  {
   "cell_type": "markdown",
   "metadata": {},
   "source": [
    "# 해쉬 값 비교"
   ]
  },
  {
   "cell_type": "code",
   "execution_count": 3,
   "metadata": {
    "scrolled": true
   },
   "outputs": [
    {
     "name": "stdout",
     "output_type": "stream",
     "text": [
      "c40aaa\n",
      "10e2f9\n",
      "c40aaa\n"
     ]
    }
   ],
   "source": [
    "import hashlib\n",
    "setting1 = {'value1': 5, 'value2': 10, 'seq': [1, 2, 3, 4, 5]}         # 딕셔너리라서 해쉬로 바로 바꿀수가 없음\n",
    "setting2 = {'value1': 6, 'value2': 10, 'seq': [1, 2, 3, 4, 5]}        \n",
    "setting3 = {'value1': 5, 'value2': 10, 'seq': [1, 2, 3, 4, 5]}        \n",
    "\n",
    "hash_key1 = hashlib.sha1(str(setting1).encode()).hexdigest()[:6]       # 딕셔너리 -> 문자열로 바꾼 후 해쉬로 변경\n",
    "hash_key2 = hashlib.sha1(str(setting2).encode()).hexdigest()[:6]       \n",
    "hash_key3 = hashlib.sha1(str(setting3).encode()).hexdigest()[:6]       \n",
    "\n",
    "print(hash_key1)  # 내용이 같으면 \n",
    "print(hash_key2) \n",
    "print(hash_key3)  # 같은 해쉬값 만드는 것을 볼 수 있음"
   ]
  },
  {
   "cell_type": "markdown",
   "metadata": {},
   "source": [
    "# 파일 이름 만들기"
   ]
  },
  {
   "cell_type": "code",
   "execution_count": 4,
   "metadata": {},
   "outputs": [
    {
     "name": "stdout",
     "output_type": "stream",
     "text": [
      "exp1-4766aa.json\n"
     ]
    }
   ],
   "source": [
    "setting = {'value1': 5, 'value2': 10, 'seq': [1, 2, 3, 4, 5], 'exp_name': 'exp1'}\n",
    "exp_name = setting['exp_name']\n",
    "hash_key = hashlib.sha1(str(setting).encode()).hexdigest()[:6]  \n",
    "filename = '{}-{}.json'.format(exp_name, hash_key)\n",
    "    \n",
    "print(filename) "
   ]
  },
  {
   "cell_type": "markdown",
   "metadata": {},
   "source": [
    "# 리눅스 파일 확인 명령어"
   ]
  },
  {
   "cell_type": "code",
   "execution_count": 5,
   "metadata": {},
   "outputs": [
    {
     "name": "stdout",
     "output_type": "stream",
     "text": [
      " 02-supervised-learning_aiml.ipynb    myenv\n",
      " Anaconda3-2019.07-Linux-x86_64.sh    mytree.dot\n",
      " Json_example.ipynb\t\t      preamble.py\n",
      " Manifold_S_Dataset_AIML.ipynb\t      results\n",
      " Manifold_Sphere_Dataset_AIML.ipynb   scikit_learn_data\n",
      " StandAlone.ipynb\t\t      test.json\n",
      " __pycache__\t\t\t      tmp\n",
      " anaconda3\t\t\t      tmp.png\n",
      " cache\t\t\t\t      tree.dot\n",
      " data\t\t\t\t      unsupervised-learning-AIML.ipynb\n",
      " jupyter-notebook-tutorial-yu.ipynb   서버사용법.txt\n",
      " model_evaluation_AIML.ipynb\t     '인공지능및기계학습(21611616박민재).ipynb'\n",
      "{\"value1\": 5, \"value2\": 10, \"seq\": [1, 2, 3, 4, 5]}"
     ]
    }
   ],
   "source": [
    "!ls              # 폴더 내 파일 확인하는 명령어\n",
    "!cat test.json   # 파일 내용 확인하는 명령어"
   ]
  },
  {
   "cell_type": "code",
   "execution_count": 6,
   "metadata": {},
   "outputs": [
    {
     "name": "stdout",
     "output_type": "stream",
     "text": [
      "mkdir: `results' 디렉토리를 만들 수 없습니다: 파일이 있습니다\n",
      " 02-supervised-learning_aiml.ipynb    myenv\n",
      " Anaconda3-2019.07-Linux-x86_64.sh    mytree.dot\n",
      " Json_example.ipynb\t\t      preamble.py\n",
      " Manifold_S_Dataset_AIML.ipynb\t      results\n",
      " Manifold_Sphere_Dataset_AIML.ipynb   scikit_learn_data\n",
      " StandAlone.ipynb\t\t      test.json\n",
      " __pycache__\t\t\t      tmp\n",
      " anaconda3\t\t\t      tmp.png\n",
      " cache\t\t\t\t      tree.dot\n",
      " data\t\t\t\t      unsupervised-learning-AIML.ipynb\n",
      " jupyter-notebook-tutorial-yu.ipynb   서버사용법.txt\n",
      " model_evaluation_AIML.ipynb\t     '인공지능및기계학습(21611616박민재).ipynb'\n"
     ]
    }
   ],
   "source": [
    "!mkdir results    # result 파일 만들기\n",
    "!ls"
   ]
  },
  {
   "cell_type": "markdown",
   "metadata": {},
   "source": [
    "# 모델 및 실험 결과 저장"
   ]
  },
  {
   "cell_type": "code",
   "execution_count": 7,
   "metadata": {},
   "outputs": [],
   "source": [
    "import torch\n",
    "import torchvision\n",
    "import torchvision.transforms as transforms\n",
    "import torch.nn as nn\n",
    "import torch.nn.functional as F\n",
    "import torch.optim as optim\n",
    "import argparse\n",
    "import numpy as np\n",
    "import time\n",
    "from copy import deepcopy # Add Deepcopy for args"
   ]
  },
  {
   "cell_type": "code",
   "execution_count": 8,
   "metadata": {},
   "outputs": [
    {
     "name": "stdout",
     "output_type": "stream",
     "text": [
      "Files already downloaded and verified\n",
      "Files already downloaded and verified\n"
     ]
    }
   ],
   "source": [
    "transform = transforms.Compose(\n",
    "    [transforms.ToTensor(),\n",
    "     transforms.Normalize((0.5, 0.5, 0.5), (0.5, 0.5, 0.5))])\n",
    "\n",
    "trainset = torchvision.datasets.CIFAR10(root='./data', train=True,\n",
    "                                        download=True, transform=transform)\n",
    "trainset, valset = torch.utils.data.random_split(trainset, [40000, 10000])\n",
    "testset = torchvision.datasets.CIFAR10(root='./data', train=False,\n",
    "                                       download=True, transform=transform)\n",
    "partition = {'train': trainset, 'val':valset, 'test':testset}"
   ]
  },
  {
   "cell_type": "code",
   "execution_count": 9,
   "metadata": {},
   "outputs": [],
   "source": [
    "class MLP(nn.Module):\n",
    "    def __init__(self, in_dim, out_dim, hid_dim, n_layer, act, dropout, use_bn, use_xavier):\n",
    "        super(MLP, self).__init__()\n",
    "        self.in_dim = in_dim\n",
    "        self.out_dim = out_dim\n",
    "        self.hid_dim = hid_dim\n",
    "        self.n_layer = n_layer\n",
    "        self.act = act\n",
    "        self.dropout = dropout\n",
    "        self.use_bn = use_bn\n",
    "        self.use_xavier = use_xavier\n",
    "        \n",
    "        # ====== Create Linear Layers ====== #\n",
    "        self.fc1 = nn.Linear(self.in_dim, self.hid_dim)\n",
    "        \n",
    "        self.linears = nn.ModuleList()\n",
    "        self.bns = nn.ModuleList()\n",
    "        for i in range(self.n_layer-1):\n",
    "            self.linears.append(nn.Linear(self.hid_dim, self.hid_dim))\n",
    "            if self.use_bn:\n",
    "                self.bns.append(nn.BatchNorm1d(self.hid_dim))\n",
    "                \n",
    "        self.fc2 = nn.Linear(self.hid_dim, self.out_dim)\n",
    "        \n",
    "        # ====== Create Activation Function ====== #\n",
    "        if self.act == 'relu':\n",
    "            self.act = nn.ReLU()\n",
    "        elif self.act == 'tanh':\n",
    "            self.act == nn.Tanh()\n",
    "        elif self.act == 'sigmoid':\n",
    "            self.act = nn.Sigmoid()\n",
    "        else:\n",
    "            raise ValueError('no valid activation function selected!')\n",
    "        \n",
    "        # ====== Create Regularization Layer ======= #\n",
    "        self.dropout = nn.Dropout(self.dropout)\n",
    "        if self.use_xavier:\n",
    "            self.xavier_init()\n",
    "          \n",
    "    def forward(self, x):\n",
    "        x = self.act(self.fc1(x))\n",
    "        for i in range(len(self.linears)):\n",
    "            x = self.act(self.linears[i](x))\n",
    "            x = self.bns[i](x)\n",
    "            x = self.dropout(x)\n",
    "        x = self.fc2(x)\n",
    "        return x\n",
    "    \n",
    "    def xavier_init(self):\n",
    "        for linear in self.linears:\n",
    "            nn.init.xavier_normal_(linear.weight)\n",
    "            linear.bias.data.fill_(0.01)\n",
    "            \n",
    "net = MLP(3072, 10, 100, 4, 'relu', 0.1, True, True) # Testing Model Construction"
   ]
  },
  {
   "cell_type": "code",
   "execution_count": 10,
   "metadata": {},
   "outputs": [],
   "source": [
    "def train(net, partition, optimizer, criterion, args):\n",
    "    trainloader = torch.utils.data.DataLoader(partition['train'], \n",
    "                                              batch_size=args.train_batch_size, \n",
    "                                              shuffle=True, num_workers=2)\n",
    "    net.train()\n",
    "    optimizer.zero_grad()\n",
    "\n",
    "    correct = 0\n",
    "    total = 0\n",
    "    train_loss = 0.0\n",
    "    for i, data in enumerate(trainloader, 0):\n",
    "        # get the inputs\n",
    "        inputs, labels = data\n",
    "        inputs = inputs.view(-1, 3072)\n",
    "        inputs = inputs.cuda()\n",
    "        labels = labels.cuda()\n",
    "        outputs = net(inputs)\n",
    "\n",
    "        loss = criterion(outputs, labels)\n",
    "        loss.backward()\n",
    "        optimizer.step()\n",
    "\n",
    "        train_loss += loss.item()\n",
    "        _, predicted = torch.max(outputs.data, 1)\n",
    "        total += labels.size(0)\n",
    "        correct += (predicted == labels).sum().item()\n",
    "\n",
    "    train_loss = train_loss / len(trainloader)\n",
    "    train_acc = 100 * correct / total\n",
    "    return net, train_loss, train_acc"
   ]
  },
  {
   "cell_type": "code",
   "execution_count": 11,
   "metadata": {},
   "outputs": [],
   "source": [
    "def validate(net, partition, criterion, args):\n",
    "    valloader = torch.utils.data.DataLoader(partition['val'], \n",
    "                                            batch_size=args.test_batch_size, \n",
    "                                            shuffle=False, num_workers=2)\n",
    "    net.eval()\n",
    "\n",
    "    correct = 0\n",
    "    total = 0\n",
    "    val_loss = 0 \n",
    "    with torch.no_grad():\n",
    "        for data in valloader:\n",
    "            images, labels = data\n",
    "            images = images.view(-1, 3072)\n",
    "            images = images.cuda()\n",
    "            labels = labels.cuda()\n",
    "            outputs = net(images)\n",
    "\n",
    "            loss = criterion(outputs, labels)\n",
    "            \n",
    "            val_loss += loss.item()\n",
    "            _, predicted = torch.max(outputs.data, 1)\n",
    "            total += labels.size(0)\n",
    "            correct += (predicted == labels).sum().item()\n",
    "\n",
    "        val_loss = val_loss / len(valloader)\n",
    "        val_acc = 100 * correct / total\n",
    "    return val_loss, val_acc"
   ]
  },
  {
   "cell_type": "code",
   "execution_count": 12,
   "metadata": {},
   "outputs": [],
   "source": [
    "def test(net, partition, args):\n",
    "    testloader = torch.utils.data.DataLoader(partition['test'], \n",
    "                                             batch_size=args.test_batch_size, \n",
    "                                             shuffle=False, num_workers=2)\n",
    "    net.eval()\n",
    "    \n",
    "    correct = 0\n",
    "    total = 0\n",
    "    with torch.no_grad():\n",
    "        for data in testloader:\n",
    "            images, labels = data\n",
    "            images = images.view(-1, 3072)\n",
    "            images = images.cuda()\n",
    "            labels = labels.cuda()\n",
    "\n",
    "            outputs = net(images)\n",
    "            _, predicted = torch.max(outputs.data, 1)\n",
    "            total += labels.size(0)\n",
    "            correct += (predicted == labels).sum().item()\n",
    "\n",
    "        test_acc = 100 * correct / total\n",
    "    return test_acc"
   ]
  },
  {
   "cell_type": "code",
   "execution_count": 13,
   "metadata": {},
   "outputs": [],
   "source": [
    "def experiment(partition, args):\n",
    "  \n",
    "    net = MLP(args.in_dim, args.out_dim, args.hid_dim, args.n_layer, args.act, args.dropout, args.use_bn, args.use_xavier)\n",
    "    net.cuda()\n",
    "\n",
    "    criterion = nn.CrossEntropyLoss()\n",
    "    if args.optim == 'SGD':\n",
    "        optimizer = optim.RMSprop(net.parameters(), lr=args.lr, weight_decay=args.l2)\n",
    "    elif args.optim == 'RMSprop':\n",
    "        optimizer = optim.RMSprop(net.parameters(), lr=args.lr, weight_decay=args.l2)\n",
    "    elif args.optim == 'Adam':\n",
    "        optimizer = optim.Adam(net.parameters(), lr=args.lr, weight_decay=args.l2)\n",
    "    else:\n",
    "        raise ValueError('In-valid optimizer choice')\n",
    "    \n",
    "    # ===== List for epoch-wise data ====== #\n",
    "    train_losses = []\n",
    "    val_losses = []\n",
    "    train_accs = []\n",
    "    val_accs = []\n",
    "    # ===================================== #\n",
    "        \n",
    "    for epoch in range(args.epoch):  # loop over the dataset multiple times\n",
    "        ts = time.time()\n",
    "        net, train_loss, train_acc = train(net, partition, optimizer, criterion, args)\n",
    "        val_loss, val_acc = validate(net, partition, criterion, args)\n",
    "        te = time.time()\n",
    "        \n",
    "        # ====== Add Epoch Data ====== #\n",
    "        train_losses.append(train_loss)\n",
    "        val_losses.append(val_loss)\n",
    "        train_accs.append(train_acc)\n",
    "        val_accs.append(val_acc)\n",
    "        # ============================ #\n",
    "        \n",
    "        print('Epoch {}, Acc(train/val): {:2.2f}/{:2.2f}, Loss(train/val) {:2.2f}/{:2.2f}. Took {:2.2f} sec'.format(epoch, train_acc, val_acc, train_loss, val_loss, te-ts))\n",
    "        \n",
    "    test_acc = test(net, partition, args)    \n",
    "    \n",
    "    # ======= Add Result to Dictionary ======= #\n",
    "    result = {}\n",
    "    result['train_losses'] = train_losses\n",
    "    result['val_losses'] = val_losses\n",
    "    result['train_accs'] = train_accs\n",
    "    result['val_accs'] = val_accs\n",
    "    result['train_acc'] = train_acc\n",
    "    result['val_acc'] = val_acc\n",
    "    result['test_acc'] = test_acc\n",
    "    return vars(args), result\n",
    "    # ===================================== #"
   ]
  },
  {
   "cell_type": "code",
   "execution_count": 14,
   "metadata": {},
   "outputs": [],
   "source": [
    "import hashlib\n",
    "import json\n",
    "from os import listdir\n",
    "from os.path import isfile, join\n",
    "import pandas as pd\n",
    "\n",
    "def save_exp_result(setting, result):\n",
    "    exp_name = setting['exp_name']\n",
    "    del setting['epoch']\n",
    "    del setting['test_batch_size']\n",
    "\n",
    "    hash_key = hashlib.sha1(str(setting).encode()).hexdigest()[:6]\n",
    "    filename = './results/{}-{}.json'.format(exp_name, hash_key)\n",
    "    result.update(setting)\n",
    "    with open(filename, 'w') as f:\n",
    "        json.dump(result, f)\n",
    "\n",
    "    \n",
    "def load_exp_result(exp_name):\n",
    "    dir_path = './results'\n",
    "    filenames = [f for f in listdir(dir_path) if isfile(join(dir_path, f)) if '.json' in f]\n",
    "    list_result = []\n",
    "    for filename in filenames:\n",
    "        if exp_name in filename:\n",
    "            with open(join(dir_path, filename), 'r') as infile:\n",
    "                results = json.load(infile)\n",
    "                list_result.append(results)\n",
    "    df = pd.DataFrame(list_result) # .drop(columns=[])\n",
    "    return df"
   ]
  },
  {
   "cell_type": "code",
   "execution_count": 15,
   "metadata": {},
   "outputs": [
    {
     "name": "stdout",
     "output_type": "stream",
     "text": [
      "Namespace(act='relu', dropout=0.2, epoch=10, exp_name='exp1_n_layer_hid_dim', hid_dim=500, in_dim=3072, l2=1e-05, lr=0.0015, n_layer=1, optim='RMSprop', out_dim=10, test_batch_size=1024, train_batch_size=256, use_bn=True, use_xavier=True)\n",
      "Epoch 0, Acc(train/val): 23.72/25.40, Loss(train/val) 24.76/35.40. Took 5.45 sec\n",
      "Epoch 1, Acc(train/val): 24.86/24.21, Loss(train/val) 24.53/24.27. Took 5.58 sec\n",
      "Epoch 2, Acc(train/val): 26.61/25.34, Loss(train/val) 17.84/20.52. Took 4.98 sec\n",
      "Epoch 3, Acc(train/val): 26.58/27.30, Loss(train/val) 21.12/25.80. Took 5.22 sec\n",
      "Epoch 4, Acc(train/val): 28.17/26.19, Loss(train/val) 17.52/26.68. Took 5.22 sec\n",
      "Epoch 5, Acc(train/val): 27.25/25.43, Loss(train/val) 18.27/23.98. Took 5.56 sec\n",
      "Epoch 6, Acc(train/val): 27.91/25.89, Loss(train/val) 17.56/22.07. Took 5.49 sec\n",
      "Epoch 7, Acc(train/val): 28.19/23.50, Loss(train/val) 18.44/22.31. Took 5.49 sec\n",
      "Epoch 8, Acc(train/val): 28.77/27.43, Loss(train/val) 16.09/24.27. Took 5.58 sec\n",
      "Epoch 9, Acc(train/val): 29.07/25.74, Loss(train/val) 16.77/22.03. Took 5.27 sec\n",
      "Namespace(act='relu', dropout=0.2, epoch=10, exp_name='exp1_n_layer_hid_dim', hid_dim=300, in_dim=3072, l2=1e-05, lr=0.0015, n_layer=1, optim='RMSprop', out_dim=10, test_batch_size=1024, train_batch_size=256, use_bn=True, use_xavier=True)\n",
      "Epoch 0, Acc(train/val): 24.06/23.89, Loss(train/val) 15.74/18.69. Took 5.51 sec\n",
      "Epoch 1, Acc(train/val): 25.27/24.77, Loss(train/val) 14.06/14.59. Took 5.52 sec\n",
      "Epoch 2, Acc(train/val): 25.73/23.67, Loss(train/val) 11.67/14.06. Took 5.22 sec\n",
      "Epoch 3, Acc(train/val): 26.40/25.19, Loss(train/val) 10.71/13.31. Took 5.50 sec\n",
      "Epoch 4, Acc(train/val): 26.38/25.50, Loss(train/val) 10.70/15.96. Took 5.47 sec\n",
      "Epoch 5, Acc(train/val): 26.00/23.36, Loss(train/val) 11.02/13.17. Took 5.02 sec\n",
      "Epoch 6, Acc(train/val): 26.53/24.90, Loss(train/val) 11.67/14.32. Took 5.23 sec\n",
      "Epoch 7, Acc(train/val): 27.75/28.24, Loss(train/val) 10.86/13.88. Took 5.37 sec\n",
      "Epoch 8, Acc(train/val): 27.20/25.87, Loss(train/val) 11.07/14.77. Took 5.56 sec\n",
      "Epoch 9, Acc(train/val): 27.69/26.13, Loss(train/val) 9.81/12.93. Took 5.68 sec\n",
      "Namespace(act='relu', dropout=0.2, epoch=10, exp_name='exp1_n_layer_hid_dim', hid_dim=500, in_dim=3072, l2=1e-05, lr=0.0015, n_layer=2, optim='RMSprop', out_dim=10, test_batch_size=1024, train_batch_size=256, use_bn=True, use_xavier=True)\n",
      "Epoch 0, Acc(train/val): 28.79/31.66, Loss(train/val) 2.01/3.35. Took 5.60 sec\n",
      "Epoch 1, Acc(train/val): 33.81/33.90, Loss(train/val) 1.84/2.27. Took 5.09 sec\n",
      "Epoch 2, Acc(train/val): 36.45/37.87, Loss(train/val) 1.76/2.59. Took 5.53 sec\n",
      "Epoch 3, Acc(train/val): 38.40/40.88, Loss(train/val) 1.72/5.20. Took 5.08 sec\n",
      "Epoch 4, Acc(train/val): 41.37/42.53, Loss(train/val) 1.64/1.65. Took 5.66 sec\n",
      "Epoch 5, Acc(train/val): 43.31/43.19, Loss(train/val) 1.58/1.62. Took 5.39 sec\n",
      "Epoch 6, Acc(train/val): 45.12/44.37, Loss(train/val) 1.54/1.79. Took 5.41 sec\n",
      "Epoch 7, Acc(train/val): 46.98/46.37, Loss(train/val) 1.49/1.53. Took 5.37 sec\n",
      "Epoch 8, Acc(train/val): 48.92/47.34, Loss(train/val) 1.44/1.62. Took 5.33 sec\n",
      "Epoch 9, Acc(train/val): 51.05/48.49, Loss(train/val) 1.38/1.55. Took 5.47 sec\n",
      "Namespace(act='relu', dropout=0.2, epoch=10, exp_name='exp1_n_layer_hid_dim', hid_dim=300, in_dim=3072, l2=1e-05, lr=0.0015, n_layer=2, optim='RMSprop', out_dim=10, test_batch_size=1024, train_batch_size=256, use_bn=True, use_xavier=True)\n",
      "Epoch 0, Acc(train/val): 29.60/34.40, Loss(train/val) 1.95/1.97. Took 5.53 sec\n",
      "Epoch 1, Acc(train/val): 33.90/35.81, Loss(train/val) 1.83/1.75. Took 5.50 sec\n",
      "Epoch 2, Acc(train/val): 37.22/37.99, Loss(train/val) 1.74/1.72. Took 5.15 sec\n",
      "Epoch 3, Acc(train/val): 39.15/39.66, Loss(train/val) 1.69/1.66. Took 5.55 sec\n",
      "Epoch 4, Acc(train/val): 41.91/42.39, Loss(train/val) 1.63/1.60. Took 5.48 sec\n",
      "Epoch 5, Acc(train/val): 44.46/44.47, Loss(train/val) 1.56/1.55. Took 5.46 sec\n",
      "Epoch 6, Acc(train/val): 46.70/46.79, Loss(train/val) 1.50/1.50. Took 5.52 sec\n",
      "Epoch 7, Acc(train/val): 48.95/47.54, Loss(train/val) 1.44/1.49. Took 5.54 sec\n",
      "Epoch 8, Acc(train/val): 50.29/47.88, Loss(train/val) 1.40/1.47. Took 5.62 sec\n",
      "Epoch 9, Acc(train/val): 52.09/48.87, Loss(train/val) 1.35/1.46. Took 5.13 sec\n",
      "Namespace(act='relu', dropout=0.2, epoch=10, exp_name='exp1_n_layer_hid_dim', hid_dim=500, in_dim=3072, l2=1e-05, lr=0.0015, n_layer=3, optim='RMSprop', out_dim=10, test_batch_size=1024, train_batch_size=256, use_bn=True, use_xavier=True)\n",
      "Epoch 0, Acc(train/val): 27.48/32.07, Loss(train/val) 2.05/1.90. Took 5.47 sec\n",
      "Epoch 1, Acc(train/val): 33.31/34.95, Loss(train/val) 1.84/2.79. Took 5.31 sec\n",
      "Epoch 2, Acc(train/val): 36.44/38.25, Loss(train/val) 1.76/6.55. Took 5.45 sec\n",
      "Epoch 3, Acc(train/val): 38.35/40.31, Loss(train/val) 1.70/20.91. Took 5.23 sec\n",
      "Epoch 4, Acc(train/val): 41.05/42.78, Loss(train/val) 1.64/2.24. Took 5.48 sec\n",
      "Epoch 5, Acc(train/val): 43.98/44.18, Loss(train/val) 1.57/1.54. Took 5.21 sec\n",
      "Epoch 6, Acc(train/val): 46.28/46.10, Loss(train/val) 1.51/5.92. Took 5.22 sec\n",
      "Epoch 7, Acc(train/val): 48.39/47.51, Loss(train/val) 1.45/1.49. Took 5.06 sec\n",
      "Epoch 8, Acc(train/val): 50.48/48.23, Loss(train/val) 1.40/1.54. Took 5.38 sec\n",
      "Epoch 9, Acc(train/val): 52.34/48.49, Loss(train/val) 1.34/1.46. Took 4.94 sec\n",
      "Namespace(act='relu', dropout=0.2, epoch=10, exp_name='exp1_n_layer_hid_dim', hid_dim=300, in_dim=3072, l2=1e-05, lr=0.0015, n_layer=3, optim='RMSprop', out_dim=10, test_batch_size=1024, train_batch_size=256, use_bn=True, use_xavier=True)\n",
      "Epoch 0, Acc(train/val): 29.75/35.45, Loss(train/val) 1.94/1.89. Took 5.19 sec\n",
      "Epoch 1, Acc(train/val): 35.03/38.03, Loss(train/val) 1.79/1.82. Took 5.05 sec\n",
      "Epoch 2, Acc(train/val): 37.97/39.34, Loss(train/val) 1.72/1.68. Took 5.22 sec\n",
      "Epoch 3, Acc(train/val): 39.84/41.32, Loss(train/val) 1.67/1.65. Took 5.32 sec\n",
      "Epoch 4, Acc(train/val): 42.31/42.98, Loss(train/val) 1.61/1.57. Took 5.44 sec\n",
      "Epoch 5, Acc(train/val): 44.92/43.85, Loss(train/val) 1.54/1.61. Took 5.23 sec\n",
      "Epoch 6, Acc(train/val): 46.75/45.33, Loss(train/val) 1.49/1.53. Took 5.44 sec\n",
      "Epoch 7, Acc(train/val): 49.47/46.43, Loss(train/val) 1.42/1.50. Took 5.45 sec\n",
      "Epoch 8, Acc(train/val): 51.17/47.53, Loss(train/val) 1.37/1.48. Took 5.53 sec\n",
      "Epoch 9, Acc(train/val): 52.89/49.61, Loss(train/val) 1.33/1.43. Took 5.56 sec\n"
     ]
    }
   ],
   "source": [
    "# ====== Random Seed Initialization ====== #\n",
    "seed = 123\n",
    "np.random.seed(seed)\n",
    "torch.manual_seed(seed)\n",
    "\n",
    "parser = argparse.ArgumentParser()\n",
    "args = parser.parse_args(\"\")\n",
    "args.exp_name = \"exp1_n_layer_hid_dim\"\n",
    "\n",
    "# ====== Model Capacity ====== #\n",
    "args.in_dim = 3072\n",
    "args.out_dim = 10\n",
    "args.hid_dim = 100\n",
    "args.act = 'relu'\n",
    "\n",
    "# ====== Regularization ======= #\n",
    "args.dropout = 0.2\n",
    "args.use_bn = True\n",
    "args.l2 = 0.00001\n",
    "args.use_xavier = True\n",
    "\n",
    "# ====== Optimizer & Training ====== #\n",
    "args.optim = 'RMSprop' #'RMSprop' #SGD, RMSprop, ADAM...\n",
    "args.lr = 0.0015\n",
    "args.epoch = 10\n",
    "\n",
    "args.train_batch_size = 256\n",
    "args.test_batch_size = 1024\n",
    "\n",
    "# ====== Experiment Variable ====== #\n",
    "name_var1 = 'n_layer'\n",
    "name_var2 = 'hid_dim'\n",
    "list_var1 = [1, 2, 3]\n",
    "list_var2 = [500, 300]\n",
    "\n",
    "\n",
    "for var1 in list_var1:\n",
    "    for var2 in list_var2:\n",
    "        setattr(args, name_var1, var1)      # args.name_var1 = var1\n",
    "        setattr(args, name_var2, var2)\n",
    "        print(args)\n",
    "                \n",
    "        setting, result = experiment(partition, deepcopy(args))\n",
    "        save_exp_result(setting, result)"
   ]
  },
  {
   "cell_type": "code",
   "execution_count": 16,
   "metadata": {},
   "outputs": [
    {
     "name": "stdout",
     "output_type": "stream",
     "text": [
      "exp1_n_layer_hid_dim-41b634.json  exp1_n_layer_hid_dim-bfc899.json\n",
      "exp1_n_layer_hid_dim-61a2d0.json  exp1_n_layer_hid_dim-cab8c1.json\n",
      "exp1_n_layer_hid_dim-7b70fe.json  exp1_n_layer_hid_dim-dece45.json\n",
      "{\"train_losses\": [2.0471453127587678, 1.837945068717762, 1.7578448520344534, 1.6970238996918794, 1.6394727533789957, 1.5681930863933198, 1.5053132385205312, 1.4507168835135782, 1.398161703613913, 1.3441456943560557], \"val_losses\": [1.901325237751007, 2.7931323051452637, 6.55473484992981, 20.907688975334167, 2.240697133541107, 1.5426671862602235, 5.915008187294006, 1.4897508382797242, 1.5351552367210388, 1.4601335883140565], \"train_accs\": [27.4825, 33.315, 36.4375, 38.355, 41.05, 43.98, 46.2775, 48.3875, 50.4825, 52.3425], \"val_accs\": [32.07, 34.95, 38.25, 40.31, 42.78, 44.18, 46.1, 47.51, 48.23, 48.49], \"train_acc\": 52.3425, \"val_acc\": 48.49, \"test_acc\": 48.94, \"exp_name\": \"exp1_n_layer_hid_dim\", \"in_dim\": 3072, \"out_dim\": 10, \"hid_dim\": 500, \"act\": \"relu\", \"dropout\": 0.2, \"use_bn\": true, \"l2\": 1e-05, \"use_xavier\": true, \"optim\": \"RMSprop\", \"lr\": 0.0015, \"train_batch_size\": 256, \"n_layer\": 3}"
     ]
    }
   ],
   "source": [
    "!ls results\n",
    "!cat results/exp1_n_layer_hid_dim-bfc899.json"
   ]
  },
  {
   "cell_type": "code",
   "execution_count": 17,
   "metadata": {},
   "outputs": [
    {
     "data": {
      "text/html": [
       "<div>\n",
       "<style scoped>\n",
       "    .dataframe tbody tr th:only-of-type {\n",
       "        vertical-align: middle;\n",
       "    }\n",
       "\n",
       "    .dataframe tbody tr th {\n",
       "        vertical-align: top;\n",
       "    }\n",
       "\n",
       "    .dataframe thead th {\n",
       "        text-align: right;\n",
       "    }\n",
       "</style>\n",
       "<table border=\"1\" class=\"dataframe\">\n",
       "  <thead>\n",
       "    <tr style=\"text-align: right;\">\n",
       "      <th></th>\n",
       "      <th>train_losses</th>\n",
       "      <th>val_losses</th>\n",
       "      <th>train_accs</th>\n",
       "      <th>val_accs</th>\n",
       "      <th>train_acc</th>\n",
       "      <th>val_acc</th>\n",
       "      <th>test_acc</th>\n",
       "      <th>exp_name</th>\n",
       "      <th>in_dim</th>\n",
       "      <th>out_dim</th>\n",
       "      <th>hid_dim</th>\n",
       "      <th>act</th>\n",
       "      <th>dropout</th>\n",
       "      <th>use_bn</th>\n",
       "      <th>l2</th>\n",
       "      <th>use_xavier</th>\n",
       "      <th>optim</th>\n",
       "      <th>lr</th>\n",
       "      <th>train_batch_size</th>\n",
       "      <th>n_layer</th>\n",
       "    </tr>\n",
       "  </thead>\n",
       "  <tbody>\n",
       "    <tr>\n",
       "      <th>0</th>\n",
       "      <td>[1.9432627365088007, 1.7929904681102486, 1.718...</td>\n",
       "      <td>[1.890033209323883, 1.8202382564544677, 1.6774...</td>\n",
       "      <td>[29.755, 35.0275, 37.9725, 39.835, 42.3125, 44...</td>\n",
       "      <td>[35.45, 38.03, 39.34, 41.32, 42.98, 43.85, 45....</td>\n",
       "      <td>52.8925</td>\n",
       "      <td>49.61</td>\n",
       "      <td>49.40</td>\n",
       "      <td>exp1_n_layer_hid_dim</td>\n",
       "      <td>3072</td>\n",
       "      <td>10</td>\n",
       "      <td>300</td>\n",
       "      <td>relu</td>\n",
       "      <td>0.2</td>\n",
       "      <td>True</td>\n",
       "      <td>0.00001</td>\n",
       "      <td>True</td>\n",
       "      <td>RMSprop</td>\n",
       "      <td>0.0015</td>\n",
       "      <td>256</td>\n",
       "      <td>3</td>\n",
       "    </tr>\n",
       "    <tr>\n",
       "      <th>1</th>\n",
       "      <td>[2.0073414107037197, 1.8399447711410037, 1.757...</td>\n",
       "      <td>[3.3494280576705933, 2.26635400056839, 2.59456...</td>\n",
       "      <td>[28.7925, 33.815, 36.455, 38.3975, 41.3725, 43...</td>\n",
       "      <td>[31.66, 33.9, 37.87, 40.88, 42.53, 43.19, 44.3...</td>\n",
       "      <td>51.0550</td>\n",
       "      <td>48.49</td>\n",
       "      <td>48.50</td>\n",
       "      <td>exp1_n_layer_hid_dim</td>\n",
       "      <td>3072</td>\n",
       "      <td>10</td>\n",
       "      <td>500</td>\n",
       "      <td>relu</td>\n",
       "      <td>0.2</td>\n",
       "      <td>True</td>\n",
       "      <td>0.00001</td>\n",
       "      <td>True</td>\n",
       "      <td>RMSprop</td>\n",
       "      <td>0.0015</td>\n",
       "      <td>256</td>\n",
       "      <td>2</td>\n",
       "    </tr>\n",
       "    <tr>\n",
       "      <th>2</th>\n",
       "      <td>[2.0471453127587678, 1.837945068717762, 1.7578...</td>\n",
       "      <td>[1.901325237751007, 2.7931323051452637, 6.5547...</td>\n",
       "      <td>[27.4825, 33.315, 36.4375, 38.355, 41.05, 43.9...</td>\n",
       "      <td>[32.07, 34.95, 38.25, 40.31, 42.78, 44.18, 46....</td>\n",
       "      <td>52.3425</td>\n",
       "      <td>48.49</td>\n",
       "      <td>48.94</td>\n",
       "      <td>exp1_n_layer_hid_dim</td>\n",
       "      <td>3072</td>\n",
       "      <td>10</td>\n",
       "      <td>500</td>\n",
       "      <td>relu</td>\n",
       "      <td>0.2</td>\n",
       "      <td>True</td>\n",
       "      <td>0.00001</td>\n",
       "      <td>True</td>\n",
       "      <td>RMSprop</td>\n",
       "      <td>0.0015</td>\n",
       "      <td>256</td>\n",
       "      <td>3</td>\n",
       "    </tr>\n",
       "    <tr>\n",
       "      <th>3</th>\n",
       "      <td>[15.741769944026972, 14.063796207403682, 11.67...</td>\n",
       "      <td>[18.691005516052247, 14.590527725219726, 14.06...</td>\n",
       "      <td>[24.06, 25.2675, 25.7275, 26.4025, 26.3775, 26...</td>\n",
       "      <td>[23.89, 24.77, 23.67, 25.19, 25.5, 23.36, 24.9...</td>\n",
       "      <td>27.6925</td>\n",
       "      <td>26.13</td>\n",
       "      <td>26.45</td>\n",
       "      <td>exp1_n_layer_hid_dim</td>\n",
       "      <td>3072</td>\n",
       "      <td>10</td>\n",
       "      <td>300</td>\n",
       "      <td>relu</td>\n",
       "      <td>0.2</td>\n",
       "      <td>True</td>\n",
       "      <td>0.00001</td>\n",
       "      <td>True</td>\n",
       "      <td>RMSprop</td>\n",
       "      <td>0.0015</td>\n",
       "      <td>256</td>\n",
       "      <td>1</td>\n",
       "    </tr>\n",
       "    <tr>\n",
       "      <th>4</th>\n",
       "      <td>[24.756574389281546, 24.527069893612225, 17.84...</td>\n",
       "      <td>[35.400817489624025, 24.271497535705567, 20.51...</td>\n",
       "      <td>[23.72, 24.8625, 26.6075, 26.5825, 28.17, 27.2...</td>\n",
       "      <td>[25.4, 24.21, 25.34, 27.3, 26.19, 25.43, 25.89...</td>\n",
       "      <td>29.0725</td>\n",
       "      <td>25.74</td>\n",
       "      <td>25.74</td>\n",
       "      <td>exp1_n_layer_hid_dim</td>\n",
       "      <td>3072</td>\n",
       "      <td>10</td>\n",
       "      <td>500</td>\n",
       "      <td>relu</td>\n",
       "      <td>0.2</td>\n",
       "      <td>True</td>\n",
       "      <td>0.00001</td>\n",
       "      <td>True</td>\n",
       "      <td>RMSprop</td>\n",
       "      <td>0.0015</td>\n",
       "      <td>256</td>\n",
       "      <td>1</td>\n",
       "    </tr>\n",
       "    <tr>\n",
       "      <th>5</th>\n",
       "      <td>[1.9537799662085855, 1.8267348237857697, 1.741...</td>\n",
       "      <td>[1.9749881386756898, 1.7535515785217286, 1.719...</td>\n",
       "      <td>[29.6025, 33.9, 37.215, 39.1475, 41.915, 44.46...</td>\n",
       "      <td>[34.4, 35.81, 37.99, 39.66, 42.39, 44.47, 46.7...</td>\n",
       "      <td>52.0875</td>\n",
       "      <td>48.87</td>\n",
       "      <td>48.80</td>\n",
       "      <td>exp1_n_layer_hid_dim</td>\n",
       "      <td>3072</td>\n",
       "      <td>10</td>\n",
       "      <td>300</td>\n",
       "      <td>relu</td>\n",
       "      <td>0.2</td>\n",
       "      <td>True</td>\n",
       "      <td>0.00001</td>\n",
       "      <td>True</td>\n",
       "      <td>RMSprop</td>\n",
       "      <td>0.0015</td>\n",
       "      <td>256</td>\n",
       "      <td>2</td>\n",
       "    </tr>\n",
       "  </tbody>\n",
       "</table>\n",
       "</div>"
      ],
      "text/plain": [
       "                                        train_losses  \\\n",
       "0  [1.9432627365088007, 1.7929904681102486, 1.718...   \n",
       "1  [2.0073414107037197, 1.8399447711410037, 1.757...   \n",
       "2  [2.0471453127587678, 1.837945068717762, 1.7578...   \n",
       "3  [15.741769944026972, 14.063796207403682, 11.67...   \n",
       "4  [24.756574389281546, 24.527069893612225, 17.84...   \n",
       "5  [1.9537799662085855, 1.8267348237857697, 1.741...   \n",
       "\n",
       "                                          val_losses  \\\n",
       "0  [1.890033209323883, 1.8202382564544677, 1.6774...   \n",
       "1  [3.3494280576705933, 2.26635400056839, 2.59456...   \n",
       "2  [1.901325237751007, 2.7931323051452637, 6.5547...   \n",
       "3  [18.691005516052247, 14.590527725219726, 14.06...   \n",
       "4  [35.400817489624025, 24.271497535705567, 20.51...   \n",
       "5  [1.9749881386756898, 1.7535515785217286, 1.719...   \n",
       "\n",
       "                                          train_accs  \\\n",
       "0  [29.755, 35.0275, 37.9725, 39.835, 42.3125, 44...   \n",
       "1  [28.7925, 33.815, 36.455, 38.3975, 41.3725, 43...   \n",
       "2  [27.4825, 33.315, 36.4375, 38.355, 41.05, 43.9...   \n",
       "3  [24.06, 25.2675, 25.7275, 26.4025, 26.3775, 26...   \n",
       "4  [23.72, 24.8625, 26.6075, 26.5825, 28.17, 27.2...   \n",
       "5  [29.6025, 33.9, 37.215, 39.1475, 41.915, 44.46...   \n",
       "\n",
       "                                            val_accs  train_acc  val_acc  \\\n",
       "0  [35.45, 38.03, 39.34, 41.32, 42.98, 43.85, 45....    52.8925    49.61   \n",
       "1  [31.66, 33.9, 37.87, 40.88, 42.53, 43.19, 44.3...    51.0550    48.49   \n",
       "2  [32.07, 34.95, 38.25, 40.31, 42.78, 44.18, 46....    52.3425    48.49   \n",
       "3  [23.89, 24.77, 23.67, 25.19, 25.5, 23.36, 24.9...    27.6925    26.13   \n",
       "4  [25.4, 24.21, 25.34, 27.3, 26.19, 25.43, 25.89...    29.0725    25.74   \n",
       "5  [34.4, 35.81, 37.99, 39.66, 42.39, 44.47, 46.7...    52.0875    48.87   \n",
       "\n",
       "   test_acc              exp_name  in_dim  out_dim  hid_dim   act  dropout  \\\n",
       "0     49.40  exp1_n_layer_hid_dim    3072       10      300  relu      0.2   \n",
       "1     48.50  exp1_n_layer_hid_dim    3072       10      500  relu      0.2   \n",
       "2     48.94  exp1_n_layer_hid_dim    3072       10      500  relu      0.2   \n",
       "3     26.45  exp1_n_layer_hid_dim    3072       10      300  relu      0.2   \n",
       "4     25.74  exp1_n_layer_hid_dim    3072       10      500  relu      0.2   \n",
       "5     48.80  exp1_n_layer_hid_dim    3072       10      300  relu      0.2   \n",
       "\n",
       "   use_bn       l2  use_xavier    optim      lr  train_batch_size  n_layer  \n",
       "0    True  0.00001        True  RMSprop  0.0015               256        3  \n",
       "1    True  0.00001        True  RMSprop  0.0015               256        2  \n",
       "2    True  0.00001        True  RMSprop  0.0015               256        3  \n",
       "3    True  0.00001        True  RMSprop  0.0015               256        1  \n",
       "4    True  0.00001        True  RMSprop  0.0015               256        1  \n",
       "5    True  0.00001        True  RMSprop  0.0015               256        2  "
      ]
     },
     "execution_count": 17,
     "metadata": {},
     "output_type": "execute_result"
    }
   ],
   "source": [
    "load_exp_result('exp1')"
   ]
  },
  {
   "cell_type": "code",
   "execution_count": 28,
   "metadata": {
    "scrolled": true
   },
   "outputs": [
    {
     "name": "stdout",
     "output_type": "stream",
     "text": [
      "<class 'pandas.core.frame.DataFrame'>\n"
     ]
    },
    {
     "data": {
      "text/html": [
       "<div>\n",
       "<style scoped>\n",
       "    .dataframe tbody tr th:only-of-type {\n",
       "        vertical-align: middle;\n",
       "    }\n",
       "\n",
       "    .dataframe tbody tr th {\n",
       "        vertical-align: top;\n",
       "    }\n",
       "\n",
       "    .dataframe thead th {\n",
       "        text-align: right;\n",
       "    }\n",
       "</style>\n",
       "<table border=\"1\" class=\"dataframe\">\n",
       "  <thead>\n",
       "    <tr style=\"text-align: right;\">\n",
       "      <th></th>\n",
       "      <th>age</th>\n",
       "      <th>gender</th>\n",
       "      <th>score</th>\n",
       "      <th>t</th>\n",
       "    </tr>\n",
       "  </thead>\n",
       "  <tbody>\n",
       "    <tr>\n",
       "      <th>0</th>\n",
       "      <td>5</td>\n",
       "      <td>f</td>\n",
       "      <td>10</td>\n",
       "      <td>1</td>\n",
       "    </tr>\n",
       "    <tr>\n",
       "      <th>1</th>\n",
       "      <td>6</td>\n",
       "      <td>m</td>\n",
       "      <td>9</td>\n",
       "      <td>1</td>\n",
       "    </tr>\n",
       "    <tr>\n",
       "      <th>2</th>\n",
       "      <td>10</td>\n",
       "      <td>f</td>\n",
       "      <td>15</td>\n",
       "      <td>1</td>\n",
       "    </tr>\n",
       "    <tr>\n",
       "      <th>3</th>\n",
       "      <td>8</td>\n",
       "      <td>m</td>\n",
       "      <td>20</td>\n",
       "      <td>2</td>\n",
       "    </tr>\n",
       "    <tr>\n",
       "      <th>4</th>\n",
       "      <td>3</td>\n",
       "      <td>f</td>\n",
       "      <td>33</td>\n",
       "      <td>2</td>\n",
       "    </tr>\n",
       "    <tr>\n",
       "      <th>5</th>\n",
       "      <td>3</td>\n",
       "      <td>m</td>\n",
       "      <td>10</td>\n",
       "      <td>2</td>\n",
       "    </tr>\n",
       "  </tbody>\n",
       "</table>\n",
       "</div>"
      ],
      "text/plain": [
       "   age gender  score  t\n",
       "0    5      f     10  1\n",
       "1    6      m      9  1\n",
       "2   10      f     15  1\n",
       "3    8      m     20  2\n",
       "4    3      f     33  2\n",
       "5    3      m     10  2"
      ]
     },
     "execution_count": 28,
     "metadata": {},
     "output_type": "execute_result"
    }
   ],
   "source": [
    "print(type(load_exp_result('exp1')))\n",
    "\n",
    "a = [{'age':5, 'gender':'f', 'score':10, 't':1}, {'age':6, 'gender':'m', 'score':9, 't':1}, {'age':10, 'gender':'f', 'score':15, 't':1}, {'age':8, 'gender':'m', 'score':20, 't':2}, {'age':3, 'gender':'f', 'score':33, 't':2}, {'age':3, 'gender':'m', 'score':10, 't':2}]\n",
    "df = pd.DataFrame(a)\n",
    "df                    # 밑의 표에서 x : age, y : gender 에 따른 값 : score을 나타내고 싶음"
   ]
  },
  {
   "cell_type": "code",
   "execution_count": 29,
   "metadata": {},
   "outputs": [
    {
     "data": {
      "text/plain": [
       "<AxesSubplot:xlabel='age', ylabel='score'>"
      ]
     },
     "execution_count": 29,
     "metadata": {},
     "output_type": "execute_result"
    },
    {
     "data": {
      "image/png": "[encoded data removed]",
      "text/plain": [
       "<Figure size 432x288 with 1 Axes>"
      ]
     },
     "metadata": {
      "needs_background": "light"
     },
     "output_type": "display_data"
    }
   ],
   "source": [
    "import seaborn as sns # matplotlib보다 더 많은 기능이 있는 클래스\n",
    "sns.barplot(x='age', y='score', hue='gender', data=df)"
   ]
  },
  {
   "cell_type": "code",
   "execution_count": 30,
   "metadata": {},
   "outputs": [
    {
     "data": {
      "text/plain": [
       "<AxesSubplot:xlabel='n_layer', ylabel='test_acc'>"
      ]
     },
     "execution_count": 30,
     "metadata": {},
     "output_type": "execute_result"
    },
    {
     "data": {
      "image/png": "[encoded data removed]",
      "text/plain": [
       "<Figure size 432x288 with 1 Axes>"
      ]
     },
     "metadata": {
      "needs_background": "light"
     },
     "output_type": "display_data"
    }
   ],
   "source": [
    "result = load_exp_result('exp1')\n",
    "\n",
    "sns.barplot(x='n_layer', y='test_acc', hue='hid_dim', data=result)"
   ]
  },
  {
   "cell_type": "code",
   "execution_count": 36,
   "metadata": {},
   "outputs": [
    {
     "data": {
      "text/plain": [
       "<AxesSubplot:xlabel='n_layer', ylabel='test_acc'>"
      ]
     },
     "execution_count": 36,
     "metadata": {},
     "output_type": "execute_result"
    },
    {
     "data": {
      "image/png": "[encoded data removed]",
      "text/plain": [
       "<Figure size 1080x432 with 3 Axes>"
      ]
     },
     "metadata": {},
     "output_type": "display_data"
    }
   ],
   "source": [
    "import matplotlib.pyplot as plt\n",
    "fig, ax = plt.subplots(1, 3)\n",
    "fig.set_size_inches(15, 6)\n",
    "#sns.set_style(\"darkgrid\n",
    "\", {\"axes.facecolor\": \".9\"})\n",
    "\n",
    "sns.barplot(x='n_layer', y='train_acc', hue='hid_dim', data=result, ax=ax[0])\n",
    "sns.barplot(x='n_layer', y='val_acc', hue='hid_dim', data=result, ax=ax[1])\n",
    "sns.barplot(x='n_layer', y='test_acc', hue='hid_dim', data=result, ax=ax[2])"
   ]
  },
  {
   "cell_type": "code",
   "execution_count": null,
   "metadata": {},
   "outputs": [],
   "source": []
  }
 ],
 "metadata": {
  "kernelspec": {
   "display_name": "Python 3",
   "language": "python",
   "name": "python3"
  },
  "language_info": {
   "codemirror_mode": {
    "name": "ipython",
    "version": 3
   },
   "file_extension": ".py",
   "mimetype": "text/x-python",
   "name": "python",
   "nbconvert_exporter": "python",
   "pygments_lexer": "ipython3",
   "version": "3.6.9"
  }
 },
 "nbformat": 4,
 "nbformat_minor": 2
}
